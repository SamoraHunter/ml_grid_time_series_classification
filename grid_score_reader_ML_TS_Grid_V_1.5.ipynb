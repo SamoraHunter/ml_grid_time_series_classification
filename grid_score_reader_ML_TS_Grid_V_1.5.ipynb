{
 "cells": [
  {
   "cell_type": "code",
   "execution_count": null,
   "id": "bc3ddda0",
   "metadata": {},
   "outputs": [],
   "source": [
    "# import shutil\n",
    "# shutil.rmtree('HFE_ML_TS_experiments/')"
   ]
  },
  {
   "cell_type": "code",
   "execution_count": null,
   "id": "371bd6e4",
   "metadata": {},
   "outputs": [],
   "source": [
    "import pandas as pd\n",
    "import numpy as np\n",
    "import os\n",
    "from tqdm import tqdm"
   ]
  },
  {
   "cell_type": "code",
   "execution_count": null,
   "id": "a850fcf1",
   "metadata": {},
   "outputs": [],
   "source": [
    "'HFE_ML_sequence_experiments'"
   ]
  },
  {
   "cell_type": "code",
   "execution_count": null,
   "id": "fee13402",
   "metadata": {},
   "outputs": [],
   "source": [
    "pre='HFE_ML_TS_experiments/'"
   ]
  },
  {
   "cell_type": "code",
   "execution_count": null,
   "id": "d4dc0f04",
   "metadata": {},
   "outputs": [],
   "source": [
    "run_dates = os.listdir(pre)"
   ]
  },
  {
   "cell_type": "code",
   "execution_count": null,
   "id": "587397bd",
   "metadata": {},
   "outputs": [],
   "source": [
    "run_dates.sort()"
   ]
  },
  {
   "cell_type": "code",
   "execution_count": null,
   "id": "eab431e2",
   "metadata": {},
   "outputs": [],
   "source": [
    "run_dates"
   ]
  },
  {
   "cell_type": "code",
   "execution_count": null,
   "id": "8ad7c581",
   "metadata": {},
   "outputs": [],
   "source": [
    "pre+run_dates[-1]+'/final_grid_score_log.csv'"
   ]
  },
  {
   "cell_type": "code",
   "execution_count": null,
   "id": "7acad4fc",
   "metadata": {},
   "outputs": [],
   "source": [
    "df = pd.read_csv(pre+run_dates[-1]+'/final_grid_score_log.csv').sort_values(by='mcc', ascending=False, ignore_index=True)"
   ]
  },
  {
   "cell_type": "code",
   "execution_count": null,
   "id": "46f8212d",
   "metadata": {},
   "outputs": [],
   "source": [
    "pre+run_dates[-1]"
   ]
  },
  {
   "cell_type": "code",
   "execution_count": null,
   "id": "9d8b0a31",
   "metadata": {},
   "outputs": [],
   "source": [
    "df.columns"
   ]
  },
  {
   "cell_type": "code",
   "execution_count": null,
   "id": "2c62c5aa",
   "metadata": {},
   "outputs": [],
   "source": [
    "len(df)"
   ]
  },
  {
   "cell_type": "code",
   "execution_count": null,
   "id": "492dcb05",
   "metadata": {},
   "outputs": [],
   "source": [
    "df['X_train_size']"
   ]
  },
  {
   "cell_type": "code",
   "execution_count": null,
   "id": "4681afb4",
   "metadata": {},
   "outputs": [],
   "source": [
    "np.array(eval(df['f_list'].iloc[0])[0]).sum()"
   ]
  },
  {
   "cell_type": "code",
   "execution_count": null,
   "id": "2bc4340f",
   "metadata": {},
   "outputs": [],
   "source": [
    "df.columns[0:55]"
   ]
  },
  {
   "cell_type": "code",
   "execution_count": null,
   "id": "fbbb0407",
   "metadata": {},
   "outputs": [],
   "source": [
    "df['n_fits'] = pd.to_numeric(df['n_fits'])\n",
    "df['run_time'] = pd.to_numeric(df['run_time'])"
   ]
  },
  {
   "cell_type": "code",
   "execution_count": null,
   "id": "7e53facd",
   "metadata": {},
   "outputs": [],
   "source": [
    "def time_per_fit(row):\n",
    "    try:\n",
    "        return float((row['run_time']/row['n_fits']))\n",
    "    except: \n",
    "        return 0"
   ]
  },
  {
   "cell_type": "code",
   "execution_count": null,
   "id": "9c7860ef",
   "metadata": {},
   "outputs": [],
   "source": [
    "df['time_per_fit'] = df.apply(time_per_fit, axis=1)"
   ]
  },
  {
   "cell_type": "code",
   "execution_count": null,
   "id": "a04e739a",
   "metadata": {},
   "outputs": [],
   "source": [
    "df['date_time_stamp'].value_counts()"
   ]
  },
  {
   "cell_type": "code",
   "execution_count": null,
   "id": "42542fce",
   "metadata": {},
   "outputs": [],
   "source": [
    "df.columns"
   ]
  },
  {
   "cell_type": "code",
   "execution_count": null,
   "id": "2deecb9e",
   "metadata": {},
   "outputs": [],
   "source": [
    "#len(eval(df['f_list'].iloc[0])[0])"
   ]
  },
  {
   "cell_type": "code",
   "execution_count": null,
   "id": "f4742e24",
   "metadata": {},
   "outputs": [],
   "source": [
    "pd.set_option('display.max_columns', None)"
   ]
  },
  {
   "cell_type": "code",
   "execution_count": null,
   "id": "174d4c44",
   "metadata": {},
   "outputs": [],
   "source": [
    "df.sort_values(by='auc', ascending=False)"
   ]
  },
  {
   "cell_type": "code",
   "execution_count": null,
   "id": "91532d17",
   "metadata": {},
   "outputs": [],
   "source": [
    "df.sort_values(by='run_time', ascending=False)"
   ]
  },
  {
   "cell_type": "code",
   "execution_count": null,
   "id": "27a14296",
   "metadata": {
    "scrolled": false
   },
   "outputs": [],
   "source": [
    "df.sort_values(by='time_per_fit', ascending=False)"
   ]
  },
  {
   "cell_type": "code",
   "execution_count": null,
   "id": "b059f49b",
   "metadata": {},
   "outputs": [],
   "source": [
    "df.columns"
   ]
  },
  {
   "cell_type": "markdown",
   "id": "c38d261c",
   "metadata": {},
   "source": [
    "# No annotation features"
   ]
  },
  {
   "cell_type": "code",
   "execution_count": null,
   "id": "4d1ca02c",
   "metadata": {},
   "outputs": [],
   "source": [
    "df[(df['annotation_n']==False) &\n",
    "   (df['meta_sp_annotation_n']==False) &\n",
    "   (df['meta_sp_annotation_mrc_n']==False) &\n",
    "   (df['annotation_mrc_n']==False)\n",
    "  ]"
   ]
  },
  {
   "cell_type": "code",
   "execution_count": null,
   "id": "42beade4",
   "metadata": {},
   "outputs": [],
   "source": [
    "#df.columns"
   ]
  },
  {
   "cell_type": "code",
   "execution_count": null,
   "id": "f87d1fbd",
   "metadata": {},
   "outputs": [],
   "source": [
    "df[(df['annotation_n']==False) &\n",
    "   (df['meta_sp_annotation_n']==False) &\n",
    "   (df['meta_sp_annotation_mrc_n']==False) &\n",
    "   (df['annotation_mrc_n']==False) & \n",
    "   (df['date_time_stamp']==False)\n",
    "  ].sort_values(by='auc', ascending=False)"
   ]
  },
  {
   "cell_type": "code",
   "execution_count": null,
   "id": "8c5618d9",
   "metadata": {},
   "outputs": [],
   "source": []
  },
  {
   "cell_type": "code",
   "execution_count": null,
   "id": "2e31ce8d",
   "metadata": {
    "scrolled": true
   },
   "outputs": [],
   "source": [
    "from string import ascii_letters\n",
    "import numpy as np\n",
    "import pandas as pd\n",
    "import seaborn as sns\n",
    "import matplotlib.pyplot as plt\n",
    "\n",
    "sns.set_theme(style=\"white\")\n",
    "\n",
    "\n",
    "# Compute the correlation matrix\n",
    "corr = df.corr()\n",
    "\n",
    "# Generate a mask for the upper triangle\n",
    "mask = np.triu(np.ones_like(corr, dtype=bool))\n",
    "\n",
    "# Set up the matplotlib figure\n",
    "f, ax = plt.subplots(figsize=(11, 9))\n",
    "\n",
    "# Generate a custom diverging colormap\n",
    "cmap = sns.diverging_palette(230, 20, as_cmap=True)\n",
    "\n",
    "# Draw the heatmap with the mask and correct aspect ratio\n",
    "sns.heatmap(corr, mask=mask, cmap=cmap, vmax=.3, center=0,\n",
    "            square=True, linewidths=.5, cbar_kws={\"shrink\": .5})"
   ]
  },
  {
   "cell_type": "code",
   "execution_count": null,
   "id": "8dbee31c",
   "metadata": {},
   "outputs": [],
   "source": [
    "df['f_list']"
   ]
  },
  {
   "cell_type": "code",
   "execution_count": null,
   "id": "ab3aa35c",
   "metadata": {},
   "outputs": [],
   "source": [
    "input_csv_path = '30163_merged_imputed.csv'"
   ]
  },
  {
   "cell_type": "code",
   "execution_count": null,
   "id": "a23afaca",
   "metadata": {},
   "outputs": [],
   "source": [
    "input_csv_path = '30163_imputed_0_5.csv'"
   ]
  },
  {
   "cell_type": "code",
   "execution_count": null,
   "id": "83251a32",
   "metadata": {},
   "outputs": [],
   "source": [
    "input_csv_path ='30163_to_16408_imputed_outcome_grid.csv'"
   ]
  },
  {
   "cell_type": "code",
   "execution_count": null,
   "id": "504ca10a",
   "metadata": {},
   "outputs": [],
   "source": [
    "input_csv_path = 'hfe_TC_merge_T_Im_10k.csv'"
   ]
  },
  {
   "cell_type": "code",
   "execution_count": null,
   "id": "9584784b",
   "metadata": {},
   "outputs": [],
   "source": [
    "input_csv_path ='df_combined_total_mean_10k.csv'"
   ]
  },
  {
   "cell_type": "code",
   "execution_count": null,
   "id": "e2425e01",
   "metadata": {},
   "outputs": [],
   "source": [
    "input_csv_path = '/data/AS/Samora/HFE/HFE/v21/hfe_TC_merge_T_Im_10k_1yr.csv'"
   ]
  },
  {
   "cell_type": "code",
   "execution_count": null,
   "id": "1dc6d2ea",
   "metadata": {},
   "outputs": [],
   "source": [
    "input_csv_path = 'hfe_TC_merge_T_Im_10k_1yr.csv'"
   ]
  },
  {
   "cell_type": "code",
   "execution_count": null,
   "id": "2b9e82a1",
   "metadata": {},
   "outputs": [],
   "source": [
    "pwd"
   ]
  },
  {
   "cell_type": "code",
   "execution_count": null,
   "id": "39900e52",
   "metadata": {},
   "outputs": [],
   "source": [
    "#input()"
   ]
  },
  {
   "cell_type": "code",
   "execution_count": null,
   "id": "aa8447bf",
   "metadata": {},
   "outputs": [],
   "source": [
    "#df_columns = pd.read_csv('/data/AS/Samora/HFE/HFE/v19/'+input_csv_path, nrows=1)\n",
    "df_columns = pd.read_csv(input_csv_path, nrows=1)\n",
    "\n"
   ]
  },
  {
   "cell_type": "code",
   "execution_count": null,
   "id": "fda5d70b",
   "metadata": {},
   "outputs": [],
   "source": [
    "df_columns"
   ]
  },
  {
   "cell_type": "code",
   "execution_count": null,
   "id": "36b94d8c",
   "metadata": {},
   "outputs": [],
   "source": [
    "#ensure\n",
    "df_columns.dropna(axis=1, how='all', inplace=True)"
   ]
  },
  {
   "cell_type": "code",
   "execution_count": null,
   "id": "b9b842f5",
   "metadata": {},
   "outputs": [],
   "source": [
    "all_columns = list(df_columns)"
   ]
  },
  {
   "cell_type": "code",
   "execution_count": null,
   "id": "13db1c0c",
   "metadata": {},
   "outputs": [],
   "source": [
    "int_f_list = list(map(int, df['f_list'].iloc[0].strip(\"[\").strip(\"]\").replace(\" \", \"\").split(\",\")))"
   ]
  },
  {
   "cell_type": "code",
   "execution_count": null,
   "id": "583e88a5",
   "metadata": {},
   "outputs": [],
   "source": [
    "len(int_f_list)"
   ]
  },
  {
   "cell_type": "code",
   "execution_count": null,
   "id": "343725d3",
   "metadata": {},
   "outputs": [],
   "source": [
    "all_columns"
   ]
  },
  {
   "cell_type": "code",
   "execution_count": null,
   "id": "8adb9b2d",
   "metadata": {},
   "outputs": [],
   "source": [
    "len([b for a, b in zip(int_f_list, all_columns) if a])"
   ]
  },
  {
   "cell_type": "code",
   "execution_count": null,
   "id": "edfb6348",
   "metadata": {},
   "outputs": [],
   "source": [
    "[b for a, b in zip(int_f_list, all_columns) if a]"
   ]
  },
  {
   "cell_type": "code",
   "execution_count": null,
   "id": "a9a0bab2",
   "metadata": {},
   "outputs": [],
   "source": [
    "def get_column_names(raw_string_vector):\n",
    "    #df['BL_1'].iloc[0]\n",
    "    int_f_list = list(map(int, raw_string_vector.strip(\"[\").strip(\"]\").replace(\" \", \"\").split(\",\")))\n",
    "    res = [b for a, b in zip(int_f_list, all_columns) if a]\n",
    "    \n",
    "    return res"
   ]
  },
  {
   "cell_type": "code",
   "execution_count": null,
   "id": "7af7f080",
   "metadata": {},
   "outputs": [],
   "source": [
    "feature_names_all = []\n",
    "feature_names_len = []\n",
    "for i in range(0, len(df)):\n",
    "    feature_names_all.append(get_column_names(df.iloc[i]['f_list']))\n",
    "    feature_names_len.append(len(get_column_names(df.iloc[i]['f_list'])))\n"
   ]
  },
  {
   "cell_type": "code",
   "execution_count": null,
   "id": "05a76b4a",
   "metadata": {},
   "outputs": [],
   "source": [
    "pd.Series(feature_names_len).plot(kind='bar')"
   ]
  },
  {
   "cell_type": "code",
   "execution_count": null,
   "id": "c9505633",
   "metadata": {},
   "outputs": [],
   "source": [
    "flat_list = [item for sublist in feature_names_all for item in sublist]\n",
    "series = pd.Series(flat_list)\n",
    "frequencies = series.value_counts().head(50)\n",
    "\n",
    "plt.figure(figsize=(12, 6))  # Set the figure size (adjust as needed)\n",
    "plt.bar(frequencies.index, frequencies.values)\n",
    "plt.xlabel('String')\n",
    "plt.ylabel('Frequency')\n",
    "plt.title('Top 25 Most Frequent Strings')\n",
    "plt.xticks(rotation=45, ha='right')\n",
    "plt.tight_layout()  # Increase spacing between labels\n",
    "plt.show()"
   ]
  },
  {
   "cell_type": "code",
   "execution_count": null,
   "id": "0cfc3273",
   "metadata": {},
   "outputs": [],
   "source": [
    "data_sv = []\n",
    "\n",
    "for i in range(0, len(df)):\n",
    "    sv = df['f_list'].iloc[i]\n",
    "    if(type(sv)== str):\n",
    "        svcn = get_column_names(sv)\n",
    "        data_sv.extend(svcn)"
   ]
  },
  {
   "cell_type": "code",
   "execution_count": null,
   "id": "ed5c080e",
   "metadata": {},
   "outputs": [],
   "source": [
    "pd.Series(data_sv).value_counts()[0:10].plot(kind='barh')"
   ]
  },
  {
   "cell_type": "code",
   "execution_count": null,
   "id": "3bbf6ede",
   "metadata": {},
   "outputs": [],
   "source": [
    "pd.Series(data_sv).value_counts()[0:20]"
   ]
  },
  {
   "cell_type": "code",
   "execution_count": null,
   "id": "b782d1aa",
   "metadata": {},
   "outputs": [],
   "source": [
    "svcn = get_column_names(sv)\n",
    "svcn"
   ]
  },
  {
   "cell_type": "code",
   "execution_count": null,
   "id": "ee37e58b",
   "metadata": {},
   "outputs": [],
   "source": [
    "data_sv"
   ]
  },
  {
   "cell_type": "code",
   "execution_count": null,
   "id": "edbf87ba",
   "metadata": {},
   "outputs": [],
   "source": [
    "df['f_list'].iloc[i][0:5]"
   ]
  },
  {
   "cell_type": "code",
   "execution_count": null,
   "id": "82c33a8b",
   "metadata": {},
   "outputs": [],
   "source": [
    "type(_)"
   ]
  },
  {
   "cell_type": "code",
   "execution_count": null,
   "id": "c667624f",
   "metadata": {},
   "outputs": [],
   "source": [
    "#warning, rereading in large data...."
   ]
  },
  {
   "cell_type": "code",
   "execution_count": null,
   "id": "367fe7cf",
   "metadata": {},
   "outputs": [],
   "source": [
    "%%time\n",
    "df_columns = pd.read_csv(input_csv_path)"
   ]
  },
  {
   "cell_type": "code",
   "execution_count": null,
   "id": "ab82710c",
   "metadata": {},
   "outputs": [],
   "source": [
    "df_columns.dropna(axis=1, how='all', inplace=True)"
   ]
  },
  {
   "cell_type": "code",
   "execution_count": null,
   "id": "a4beeeac",
   "metadata": {},
   "outputs": [],
   "source": [
    "#df_columns = pd.read_csv('/home/aliencat/samora/HFE/HFE/v19/'+input_csv_path)"
   ]
  },
  {
   "cell_type": "code",
   "execution_count": null,
   "id": "4f874a10",
   "metadata": {},
   "outputs": [],
   "source": [
    "df_columns"
   ]
  },
  {
   "cell_type": "code",
   "execution_count": null,
   "id": "4324b6e2",
   "metadata": {},
   "outputs": [],
   "source": [
    "for col in df_columns.columns:\n",
    "    if(col.lower().find(\"chrom\")!=-1 or col.lower().find(\"282\")!=-1 or col.lower().find(\"h63d\")!=-1 or col.lower().find(\"homo\")!=-1):\n",
    "        print(col)"
   ]
  },
  {
   "cell_type": "code",
   "execution_count": null,
   "id": "00ab665f",
   "metadata": {},
   "outputs": [],
   "source": [
    "df_columns[df_columns['Iron overload (disorder)_count_subject_present']==1]"
   ]
  },
  {
   "cell_type": "code",
   "execution_count": null,
   "id": "1fb233de",
   "metadata": {},
   "outputs": [],
   "source": [
    "sv = df.iloc[0]['f_list']\n",
    "\n",
    "svc = get_column_names(sv)\n",
    "\n",
    "for col in svc:\n",
    "    if (col.lower().find(\"chrom\")!=-1 or col.lower().find(\"282\")!=-1 or col.lower().find(\"h63d\")!=-1 or col.lower().find(\"homo\")!=-1):\n",
    "        print(col)"
   ]
  },
  {
   "cell_type": "code",
   "execution_count": null,
   "id": "4d795186",
   "metadata": {},
   "outputs": [],
   "source": [
    "len(svc)"
   ]
  },
  {
   "cell_type": "code",
   "execution_count": null,
   "id": "1ed35d67",
   "metadata": {},
   "outputs": [],
   "source": [
    "for col in svc:\n",
    "    if(col.lower().find(\"chrom\")!=-1 or col.lower().find(\"282\")!=-1 or col.lower().find(\"h63d\")!=-1 or col.lower().find(\"homo\")!=-1):\n",
    "        print(col)"
   ]
  },
  {
   "cell_type": "code",
   "execution_count": null,
   "id": "c15e3ca8",
   "metadata": {},
   "outputs": [],
   "source": [
    "df = pd.read_csv(pre+run_dates[-1]+'/final_grid_score_log.csv').sort_values(by='auc', ascending=False)"
   ]
  },
  {
   "cell_type": "code",
   "execution_count": null,
   "id": "4e2fefb0",
   "metadata": {},
   "outputs": [],
   "source": [
    "df.columns"
   ]
  },
  {
   "cell_type": "code",
   "execution_count": null,
   "id": "0e68f35b",
   "metadata": {},
   "outputs": [],
   "source": [
    "X = df.drop('auc', axis=1)\n",
    "y = df['auc']"
   ]
  },
  {
   "cell_type": "code",
   "execution_count": null,
   "id": "aad84e7c",
   "metadata": {},
   "outputs": [],
   "source": [
    "X.drop(['f_list', 'mcc', 'f1', 'precision', 'recall',\n",
    "       'accuracy', 'parameter_sample', 'algorithm_implementation'], axis=1, inplace=True)"
   ]
  },
  {
   "cell_type": "code",
   "execution_count": null,
   "id": "69351b11",
   "metadata": {},
   "outputs": [],
   "source": [
    "metric_pre_list = []\n",
    "for elem in [ 'f1', 'recall','auc',\n",
    "       'accuracy']:\n",
    "    metric_pre_list.append(elem+\"_m\")\n",
    "    metric_pre_list.append(elem+\"_std\")"
   ]
  },
  {
   "cell_type": "code",
   "execution_count": null,
   "id": "243027e8",
   "metadata": {},
   "outputs": [],
   "source": [
    "X.drop(metric_pre_list, axis=1, inplace=True)"
   ]
  },
  {
   "cell_type": "code",
   "execution_count": null,
   "id": "7c226b45",
   "metadata": {},
   "outputs": [],
   "source": [
    "binary_list = ['age','sex', 'bmi', 'ethnicity', 'bloods', 'diagnostic_order', 'drug_order',\n",
    "       'annotation_n', 'meta_sp_annotation_n', 'scale']\n",
    "\n",
    "for col in binary_list:\n",
    "    X[col] = df[col].astype(int)\n",
    "    #X = pd.get_dummies(X, columns=[col])\n",
    "\n",
    "\n",
    "\n",
    "\n"
   ]
  },
  {
   "cell_type": "code",
   "execution_count": null,
   "id": "ef0061a7",
   "metadata": {},
   "outputs": [],
   "source": [
    "dummy_list = ['method_name', 'param_space_size', 'outcome_var_n']\n",
    "\n",
    "for col in dummy_list:\n",
    "    \n",
    "    X = pd.get_dummies(X, columns=[col])"
   ]
  },
  {
   "cell_type": "code",
   "execution_count": null,
   "id": "6df5eac8",
   "metadata": {},
   "outputs": [],
   "source": [
    "X"
   ]
  },
  {
   "cell_type": "code",
   "execution_count": null,
   "id": "6656c7a0",
   "metadata": {},
   "outputs": [],
   "source": [
    "X = X.loc[:, (X != X.iloc[0]).any()] "
   ]
  },
  {
   "cell_type": "code",
   "execution_count": null,
   "id": "a0c6f6e7",
   "metadata": {},
   "outputs": [],
   "source": [
    "X.columns"
   ]
  },
  {
   "cell_type": "code",
   "execution_count": null,
   "id": "f3837a81",
   "metadata": {},
   "outputs": [],
   "source": [
    "X"
   ]
  },
  {
   "cell_type": "code",
   "execution_count": null,
   "id": "3f520db4",
   "metadata": {},
   "outputs": [],
   "source": [
    "from sklearn.preprocessing import StandardScaler\n",
    "\n",
    "x_cols = list(X.columns)\n",
    "\n",
    "scaler = StandardScaler()\n",
    "# transform data\n",
    "#scaled = scaler.fit_transform(X)\n",
    "\n",
    "scaler.fit(X)\n",
    "\n",
    "X = scaler.transform(X)\n",
    "\n",
    "X = pd.DataFrame(X, columns = x_cols)"
   ]
  },
  {
   "cell_type": "code",
   "execution_count": null,
   "id": "76740338",
   "metadata": {},
   "outputs": [],
   "source": [
    "X"
   ]
  },
  {
   "cell_type": "code",
   "execution_count": null,
   "id": "e7f82ce3",
   "metadata": {},
   "outputs": [],
   "source": [
    "#%pip install shap"
   ]
  },
  {
   "cell_type": "code",
   "execution_count": null,
   "id": "a155b75b",
   "metadata": {},
   "outputs": [],
   "source": [
    "from xgboost import XGBRegressor\n",
    "import shap\n",
    "\n",
    "model = XGBRegressor()\n",
    "model.fit(X, y)   \n",
    "y_pred = model.predict(X)\n",
    "from sklearn.metrics import *\n",
    "\n",
    "auc(y, y_pred)\n"
   ]
  },
  {
   "cell_type": "code",
   "execution_count": null,
   "id": "75d346f8",
   "metadata": {},
   "outputs": [],
   "source": [
    "len(X)"
   ]
  },
  {
   "cell_type": "code",
   "execution_count": null,
   "id": "3bf25716",
   "metadata": {},
   "outputs": [],
   "source": [
    "X_sampled = X#.sample(100, random_state=10)\n",
    "\n",
    "explainer = shap.TreeExplainer(model)\n",
    "        \n",
    "shap_values = explainer.shap_values(X_sampled)\n",
    "\n",
    "shap.summary_plot(shap_values, X_sampled, show=False)"
   ]
  },
  {
   "cell_type": "code",
   "execution_count": null,
   "id": "a88f4a8d",
   "metadata": {},
   "outputs": [],
   "source": [
    "X_copy = X.copy()\n"
   ]
  },
  {
   "cell_type": "code",
   "execution_count": null,
   "id": "01bea8dd",
   "metadata": {},
   "outputs": [],
   "source": [
    "X_copy['auc'] = y.values"
   ]
  },
  {
   "cell_type": "code",
   "execution_count": null,
   "id": "4c452665",
   "metadata": {},
   "outputs": [],
   "source": [
    "for col in X.columns:\n",
    "    X_copy.plot(kind='scatter', x=col, y='auc')"
   ]
  },
  {
   "cell_type": "code",
   "execution_count": null,
   "id": "5398c7b5",
   "metadata": {},
   "outputs": [],
   "source": [
    "X.columns"
   ]
  },
  {
   "cell_type": "code",
   "execution_count": null,
   "id": "ce4f65dc",
   "metadata": {},
   "outputs": [],
   "source": []
  },
  {
   "cell_type": "code",
   "execution_count": null,
   "id": "15cea7f0",
   "metadata": {},
   "outputs": [],
   "source": [
    "import statsmodels.api as sm\n",
    "mod = sm.OLS(y.values.reshape(-1,1),X)\n",
    "res = mod.fit()\n",
    "print(res.summary())"
   ]
  },
  {
   "cell_type": "code",
   "execution_count": null,
   "id": "629670f6",
   "metadata": {},
   "outputs": [],
   "source": []
  },
  {
   "cell_type": "code",
   "execution_count": null,
   "id": "f889497f",
   "metadata": {},
   "outputs": [],
   "source": [
    "sv = df.iloc[0]['f_list']\n",
    "\n",
    "svc = get_column_names(sv)\n",
    "svc"
   ]
  },
  {
   "cell_type": "code",
   "execution_count": null,
   "id": "099f90f1",
   "metadata": {},
   "outputs": [],
   "source": [
    "set_of_all_inc_columns = set()\n",
    "\n",
    "for i in range(0, len(df)):\n",
    "    sv = df.iloc[i]['f_list']\n",
    "\n",
    "    svc_temp = get_column_names(sv)\n",
    "    for col in svc_temp:\n",
    "        if col.lower().find(\"phleb\") !=-1 or col.lower().find(\"hemoch\") !=-1:\n",
    "            print(col)\n",
    "    \n",
    "    set_of_all_inc_columns.update(svc_temp)"
   ]
  },
  {
   "cell_type": "code",
   "execution_count": null,
   "id": "88412149",
   "metadata": {},
   "outputs": [],
   "source": [
    "len(list(set_of_all_inc_columns))"
   ]
  },
  {
   "cell_type": "code",
   "execution_count": null,
   "id": "cb930c7f",
   "metadata": {},
   "outputs": [],
   "source": [
    "def get_column_int_vec(raw_string_vector):\n",
    "    #df['BL_1'].iloc[0]\n",
    "    int_f_list = list(map(int, raw_string_vector.strip(\"[\").strip(\"]\").replace(\" \", \"\").split(\",\")))\n",
    "    #res = [b for a, b in zip(int_f_list, all_columns) if a]\n",
    "    \n",
    "    return int_f_list\n",
    "    \n",
    "    \n",
    "    "
   ]
  },
  {
   "cell_type": "code",
   "execution_count": null,
   "id": "8381afd1",
   "metadata": {},
   "outputs": [],
   "source": [
    "X_f = X.copy()"
   ]
  },
  {
   "cell_type": "code",
   "execution_count": null,
   "id": "ad4e84c9",
   "metadata": {},
   "outputs": [],
   "source": [
    "# take raw df in df columns, now "
   ]
  },
  {
   "cell_type": "code",
   "execution_count": null,
   "id": "d778c546",
   "metadata": {},
   "outputs": [],
   "source": [
    "df_columns"
   ]
  },
  {
   "cell_type": "code",
   "execution_count": null,
   "id": "c1e49b46",
   "metadata": {},
   "outputs": [],
   "source": [
    "for col in df_columns.columns:\n",
    "    X_f[col] = 0"
   ]
  },
  {
   "cell_type": "code",
   "execution_count": null,
   "id": "3ebe2c3b",
   "metadata": {},
   "outputs": [],
   "source": [
    "df_columns.drop('Less-than symbol < (qualifier value)_count_subject_present', axis=1, inplace=True)"
   ]
  },
  {
   "cell_type": "code",
   "execution_count": null,
   "id": "ce6cdef5",
   "metadata": {},
   "outputs": [],
   "source": [
    "df_columns.drop('Less-than symbol < (qualifier value)_count_relative_not_present', axis=1, inplace=True)"
   ]
  },
  {
   "cell_type": "code",
   "execution_count": null,
   "id": "ad1d9c08",
   "metadata": {},
   "outputs": [],
   "source": [
    "df_columns.drop('Less-than symbol < (qualifier value)_count', axis=1, inplace=True)"
   ]
  },
  {
   "cell_type": "code",
   "execution_count": null,
   "id": "beff65ae",
   "metadata": {},
   "outputs": [],
   "source": [
    "df_columns.drop('Less-than symbol < (qualifier value)_count_subject_not_present', axis=1, inplace=True)"
   ]
  },
  {
   "cell_type": "code",
   "execution_count": null,
   "id": "d5fffb90",
   "metadata": {},
   "outputs": [],
   "source": [
    "# df columns is all cols\n",
    "# replace with only cols from highest auc for shapely\n",
    "# get_column_names(df.iloc[i]['f_list'])"
   ]
  },
  {
   "cell_type": "code",
   "execution_count": null,
   "id": "9654a9c2",
   "metadata": {},
   "outputs": [],
   "source": [
    "try:\n",
    "    for i in range(0, len(X_f)):\n",
    "        X_f.iloc[i][[x for x in df_columns]] = get_column_int_vec(df.iloc[i]['f_list'])\n",
    "except Exception as e:\n",
    "    print(e)"
   ]
  },
  {
   "cell_type": "code",
   "execution_count": null,
   "id": "693072fc",
   "metadata": {},
   "outputs": [],
   "source": [
    "len(df_columns)"
   ]
  },
  {
   "cell_type": "code",
   "execution_count": null,
   "id": "696c00c5",
   "metadata": {},
   "outputs": [],
   "source": [
    "len(get_column_int_vec(df.iloc[i]['f_list']))"
   ]
  },
  {
   "cell_type": "code",
   "execution_count": null,
   "id": "4a337668",
   "metadata": {},
   "outputs": [],
   "source": [
    "#for i in tqdm(range(0, len(X_f))):\n",
    "#    f_list = df.iloc[i]['f_list']\n",
    "    \n",
    "#    svc = get_column_names(f_list)\n",
    "    \n",
    "#    for col in svc:\n",
    "#        X_f.iloc[i][col] = 1"
   ]
  },
  {
   "cell_type": "code",
   "execution_count": null,
   "id": "7b35dbbf",
   "metadata": {},
   "outputs": [],
   "source": [
    "list_set_of_all_inc_columns =  list(set_of_all_inc_columns)"
   ]
  },
  {
   "cell_type": "code",
   "execution_count": null,
   "id": "ef145cb1",
   "metadata": {},
   "outputs": [],
   "source": [
    "X_f = X_f.loc[:, list_set_of_all_inc_columns]"
   ]
  },
  {
   "cell_type": "code",
   "execution_count": null,
   "id": "048002fe",
   "metadata": {},
   "outputs": [],
   "source": [
    "import re"
   ]
  },
  {
   "cell_type": "code",
   "execution_count": null,
   "id": "5bf32f8e",
   "metadata": {},
   "outputs": [],
   "source": [
    "rename_cols = True\n",
    "if(rename_cols):\n",
    "    regex = re.compile(r\"\\[|\\]|<\", re.IGNORECASE)\n",
    "    X_f.columns = [regex.sub(\"_\", col) if any(x in str(col) for x in set(('[', ']', '<'))) else col for col in X_f.columns.values]\n"
   ]
  },
  {
   "cell_type": "code",
   "execution_count": null,
   "id": "26963d48",
   "metadata": {},
   "outputs": [],
   "source": [
    "from xgboost import XGBRegressor\n",
    "import shap\n",
    "\n",
    "model = XGBRegressor()\n",
    "model.fit(X_f, y)   \n",
    "y_pred = model.predict(X_f)\n",
    "from sklearn.metrics import *\n",
    "\n",
    "auc(y, y_pred)"
   ]
  },
  {
   "cell_type": "code",
   "execution_count": null,
   "id": "0238e9a2",
   "metadata": {},
   "outputs": [],
   "source": [
    "X_sampled = X_f#.sample(100, random_state=10)\n",
    "\n",
    "explainer = shap.TreeExplainer(model)\n",
    "        \n",
    "shap_values = explainer.shap_values(X_sampled)\n",
    "\n",
    "shap.summary_plot(shap_values, X_sampled, show=False)"
   ]
  },
  {
   "cell_type": "code",
   "execution_count": null,
   "id": "6615da4c",
   "metadata": {},
   "outputs": [],
   "source": [
    "shap_values.shape"
   ]
  },
  {
   "cell_type": "code",
   "execution_count": null,
   "id": "ae492177",
   "metadata": {},
   "outputs": [],
   "source": [
    "shap_values.sort()"
   ]
  },
  {
   "cell_type": "code",
   "execution_count": null,
   "id": "7378a770",
   "metadata": {},
   "outputs": [],
   "source": [
    "shap.summary_plot(shap_values, X_sampled, show=False, sort=True, max_display=30)"
   ]
  },
  {
   "cell_type": "code",
   "execution_count": null,
   "id": "6f43dc0d",
   "metadata": {},
   "outputs": [],
   "source": [
    "import inspect\n",
    "inspect.signature(shap.summary_plot)"
   ]
  },
  {
   "cell_type": "code",
   "execution_count": null,
   "id": "c1f688e8",
   "metadata": {},
   "outputs": [],
   "source": [
    "%matplotlib inline"
   ]
  },
  {
   "cell_type": "code",
   "execution_count": null,
   "id": "f17788ac",
   "metadata": {},
   "outputs": [],
   "source": [
    "from xgboost import plot_tree\n",
    "import matplotlib.pyplot as plt\n",
    "from matplotlib.pyplot import figure\n",
    "\n",
    "try:\n",
    "    figure(figsize=(10, 10), dpi=300)\n",
    "    plt.rcParams.update({'figure.figsize':[10, 10], 'figure.dpi':300})\n",
    "    plot_tree(model)\n",
    "\n",
    "    plt.savefig(\"grid_tree.png\")\n",
    "    plt.show()\n",
    "except Exception as e:\n",
    "    print(e)"
   ]
  },
  {
   "cell_type": "code",
   "execution_count": null,
   "id": "6ec2066e",
   "metadata": {},
   "outputs": [],
   "source": [
    "inspect.signature(plot_tree)"
   ]
  },
  {
   "cell_type": "code",
   "execution_count": null,
   "id": "db8f77a6",
   "metadata": {},
   "outputs": [],
   "source": [
    "df.sort_values(by='auc', ascending=False)[0:10]"
   ]
  },
  {
   "cell_type": "code",
   "execution_count": null,
   "id": "1c508ede",
   "metadata": {},
   "outputs": [],
   "source": [
    "screen_term_list = ['282', 'heteroz', 'homozy', 'compound', 'h63', 'chromat', 'hfe', 'overload', 'outcome']"
   ]
  },
  {
   "cell_type": "code",
   "execution_count": null,
   "id": "f90ba591",
   "metadata": {},
   "outputs": [],
   "source": [
    "for i in range(0, len(df)):\n",
    "    targ_col_names = get_column_names(df.iloc[i]['f_list'])\n",
    "    \n",
    "    for col in targ_col_names:\n",
    "        for term in screen_term_list:\n",
    "            if col.lower().find(term.lower()) !=-1:\n",
    "                print(i, col)"
   ]
  },
  {
   "cell_type": "code",
   "execution_count": null,
   "id": "811ebb9e",
   "metadata": {},
   "outputs": [],
   "source": [
    "#warning reading large data again 2x"
   ]
  },
  {
   "cell_type": "code",
   "execution_count": null,
   "id": "9dfa8059",
   "metadata": {},
   "outputs": [],
   "source": [
    "df1 = pd.read_csv(input_csv_path)"
   ]
  },
  {
   "cell_type": "code",
   "execution_count": null,
   "id": "882b2369",
   "metadata": {},
   "outputs": [],
   "source": [
    "df1.dropna(axis=1, how='all', inplace=True)"
   ]
  },
  {
   "cell_type": "code",
   "execution_count": null,
   "id": "39e30d90",
   "metadata": {},
   "outputs": [],
   "source": [
    "df1"
   ]
  },
  {
   "cell_type": "code",
   "execution_count": null,
   "id": "2da4360f",
   "metadata": {},
   "outputs": [],
   "source": [
    "df.iloc[0]"
   ]
  },
  {
   "cell_type": "code",
   "execution_count": null,
   "id": "c0e249c8",
   "metadata": {},
   "outputs": [],
   "source": [
    "sv = df['f_list'].iloc[0]\n",
    "\n",
    "svcn = get_column_names(sv)"
   ]
  },
  {
   "cell_type": "code",
   "execution_count": null,
   "id": "fbd82fc7",
   "metadata": {},
   "outputs": [],
   "source": [
    "len(svcn)"
   ]
  },
  {
   "cell_type": "code",
   "execution_count": null,
   "id": "46409dad",
   "metadata": {
    "scrolled": true
   },
   "outputs": [],
   "source": [
    "X = df1[svcn]\n",
    "\n",
    "y = df1['outcome_var_1']"
   ]
  },
  {
   "cell_type": "code",
   "execution_count": null,
   "id": "27f36973",
   "metadata": {},
   "outputs": [],
   "source": [
    "from sklearn.model_selection import train_test_split"
   ]
  },
  {
   "cell_type": "code",
   "execution_count": null,
   "id": "80abf696",
   "metadata": {},
   "outputs": [],
   "source": [
    "from sklearn.preprocessing import StandardScaler\n",
    "scaler = StandardScaler()\n",
    "X = scaler.fit_transform(X)\n",
    "\n",
    "X = pd.DataFrame(data=X, columns=svcn)"
   ]
  },
  {
   "cell_type": "code",
   "execution_count": null,
   "id": "0b25c69a",
   "metadata": {},
   "outputs": [],
   "source": [
    "x_train, x_test, y_train, y_test = train_test_split(X, y, test_size = 0.25)"
   ]
  },
  {
   "cell_type": "code",
   "execution_count": null,
   "id": "99df770a",
   "metadata": {},
   "outputs": [],
   "source": [
    "import statsmodels.api as sm\n",
    "mod = sm.OLS(y_train.values.reshape(-1,1),x_train)\n",
    "res = mod.fit()\n",
    "display(res.summary())"
   ]
  },
  {
   "cell_type": "code",
   "execution_count": null,
   "id": "89d36ae2",
   "metadata": {},
   "outputs": [],
   "source": [
    "results_summary = res.summary()\n",
    "\n",
    "# Note that tables is a list. The table at index 1 is the \"core\" table. Additionally, read_html puts dfs in a list, so we want index 0\n",
    "results_as_html = results_summary.tables[1].as_html()\n",
    "rdf = pd.read_html(results_as_html, header=0, index_col=0)[0]"
   ]
  },
  {
   "cell_type": "code",
   "execution_count": null,
   "id": "24a30692",
   "metadata": {
    "scrolled": false
   },
   "outputs": [],
   "source": [
    "rdf.sort_values(by='coef')"
   ]
  },
  {
   "cell_type": "code",
   "execution_count": null,
   "id": "69a14c9e",
   "metadata": {},
   "outputs": [],
   "source": [
    "rdf.sort_values(by='coef')[0:20]"
   ]
  },
  {
   "cell_type": "code",
   "execution_count": null,
   "id": "6cd5cbad",
   "metadata": {},
   "outputs": [],
   "source": [
    "rdf.sort_values(by='coef', ascending=False)[0:20]"
   ]
  },
  {
   "cell_type": "code",
   "execution_count": null,
   "id": "3d43292d",
   "metadata": {},
   "outputs": [],
   "source": [
    "rdf.reindex(rdf.coef.abs().sort_values().index)"
   ]
  },
  {
   "cell_type": "code",
   "execution_count": null,
   "id": "bc6c1058",
   "metadata": {},
   "outputs": [],
   "source": [
    "rdf.reindex(rdf.coef.abs().sort_values(ascending=False).index)"
   ]
  },
  {
   "cell_type": "code",
   "execution_count": null,
   "id": "3969d298",
   "metadata": {},
   "outputs": [],
   "source": [
    "rdf.reindex(rdf.coef.abs().sort_values(ascending=False).index)[0:20]"
   ]
  },
  {
   "cell_type": "code",
   "execution_count": null,
   "id": "49135919",
   "metadata": {},
   "outputs": [],
   "source": [
    "rdf.sort_values(by='coef',ascending=False)"
   ]
  },
  {
   "cell_type": "code",
   "execution_count": null,
   "id": "aad446b2",
   "metadata": {},
   "outputs": [],
   "source": [
    "#working\n",
    "#display(res.summary())"
   ]
  },
  {
   "cell_type": "code",
   "execution_count": null,
   "id": "3796a925",
   "metadata": {
    "scrolled": false
   },
   "outputs": [],
   "source": [
    "df[df['method_name']=='XGBClassifier']"
   ]
  },
  {
   "cell_type": "code",
   "execution_count": null,
   "id": "cc55443d",
   "metadata": {},
   "outputs": [],
   "source": [
    "#df[df['method_name']=='XGBClassifier']['algorithm_implementation'].sort_values(by='auc')"
   ]
  },
  {
   "cell_type": "code",
   "execution_count": null,
   "id": "d485ce5d",
   "metadata": {},
   "outputs": [],
   "source": [
    "try:\n",
    "    print(df[df['method_name']=='XGBClassifier']['algorithm_implementation'].iloc[0])\n",
    "    \n",
    "except:\n",
    "    pass"
   ]
  },
  {
   "cell_type": "code",
   "execution_count": null,
   "id": "c111435f",
   "metadata": {},
   "outputs": [],
   "source": [
    "from xgboost import XGBClassifier"
   ]
  },
  {
   "cell_type": "code",
   "execution_count": null,
   "id": "feed92dc",
   "metadata": {},
   "outputs": [],
   "source": [
    "try:\n",
    "    model = eval(str(df[ \n",
    "   (df['date_time_stamp']==False)\n",
    "  ].sort_values(by='auc', ascending=False)[df[ \n",
    "   (df['date_time_stamp']==False)\n",
    "  ].sort_values(by='auc', ascending=False)['method_name']=='xbg']['algorithm_implementation'].iloc[0]).replace(\"nan\", \"np.nan\").replace(\", ...\", \"\"))\n",
    "    print(\"set best model params\")\n",
    "except Exception as e:\n",
    "    print(e)\n",
    "\n",
    "\n",
    "    model = XGBClassifier(base_score=None, booster=None, colsample_bylevel=None,\n",
    "                  colsample_bynode=None, colsample_bytree=None, gamma=None,\n",
    "                  gpu_id=None, importance_type='gain', interaction_constraints=None,\n",
    "                  learning_rate=None, max_delta_step=None, max_depth=None,\n",
    "                  min_child_weight=None, missing=np.nan, monotone_constraints=None,\n",
    "                  n_estimators=100, n_jobs=None, num_parallel_tree=None,\n",
    "                  random_state=None, reg_alpha=None, reg_lambda=None,\n",
    "                  scale_pos_weight=None, subsample=None, tree_method=None,\n",
    "                  validate_parameters=None, verbosity=None)\n",
    "\n",
    "\n",
    "\n",
    "model.fit(x_train, y_train)   \n",
    "y_pred = model.predict(x_test)\n",
    "\n",
    "\n",
    "#auc(y_test, y_pred)\n",
    "roc_auc_score(y_test, y_pred)"
   ]
  },
  {
   "cell_type": "code",
   "execution_count": null,
   "id": "af60c167",
   "metadata": {},
   "outputs": [],
   "source": [
    "#from sklearn.metrics import auc_roc_score\n",
    "roc_auc_score(y_test, y_pred)"
   ]
  },
  {
   "cell_type": "code",
   "execution_count": null,
   "id": "02d5c72d",
   "metadata": {},
   "outputs": [],
   "source": [
    "try:\n",
    "    figure(figsize=(10, 10), dpi=900)\n",
    "    plt.rcParams.update({'figure.figsize':[10, 10], 'figure.dpi':900})\n",
    "    plot_tree(model)\n",
    "\n",
    "    plt.savefig(\"grid_tree_data.png\")\n",
    "    plt.show()\n",
    "except Exception as e:\n",
    "    print(e)"
   ]
  },
  {
   "cell_type": "code",
   "execution_count": null,
   "id": "aeb9b128",
   "metadata": {},
   "outputs": [],
   "source": [
    "X_sampled = x_train#.sample(100, random_state=10)\n",
    "\n",
    "explainer = shap.TreeExplainer(model)\n",
    "        \n",
    "shap_values = explainer.shap_values(X_sampled)\n",
    "\n",
    "shap.summary_plot(shap_values, X_sampled, show=False)"
   ]
  },
  {
   "cell_type": "code",
   "execution_count": null,
   "id": "b44b4517",
   "metadata": {},
   "outputs": [],
   "source": [
    "x_test"
   ]
  },
  {
   "cell_type": "code",
   "execution_count": null,
   "id": "c47ba1d4",
   "metadata": {},
   "outputs": [],
   "source": [
    "random_individual = x_test.sample(1)"
   ]
  },
  {
   "cell_type": "code",
   "execution_count": null,
   "id": "9378b617",
   "metadata": {},
   "outputs": [],
   "source": [
    "random_individual.values"
   ]
  },
  {
   "cell_type": "code",
   "execution_count": null,
   "id": "97aa3549",
   "metadata": {},
   "outputs": [],
   "source": [
    "shap_values = explainer.shap_values(X_sampled)"
   ]
  },
  {
   "cell_type": "code",
   "execution_count": null,
   "id": "ed3c629f",
   "metadata": {},
   "outputs": [],
   "source": [
    "len(x_test)"
   ]
  },
  {
   "cell_type": "code",
   "execution_count": null,
   "id": "b5f25077",
   "metadata": {},
   "outputs": [],
   "source": [
    "%%time\n",
    "X_sampled = x_train#.sample(100, random_state=10)\n",
    "\n",
    "explainer = shap.TreeExplainer(model)\n",
    "        \n",
    "shap_values = explainer.shap_values(X_sampled)\n",
    "\n",
    "shap.summary_plot(shap_values, X_sampled, show=False)"
   ]
  },
  {
   "cell_type": "markdown",
   "id": "1bc169dd",
   "metadata": {},
   "source": [
    "# no date stamp"
   ]
  },
  {
   "cell_type": "code",
   "execution_count": null,
   "id": "03a7815b",
   "metadata": {},
   "outputs": [],
   "source": []
  },
  {
   "cell_type": "code",
   "execution_count": null,
   "id": "c07fb929",
   "metadata": {
    "scrolled": false
   },
   "outputs": [],
   "source": [
    "df[(df['method_name']=='XGBClassifier') & (df['date_time_stamp']==False)]"
   ]
  },
  {
   "cell_type": "code",
   "execution_count": null,
   "id": "12f06103",
   "metadata": {},
   "outputs": [],
   "source": [
    "#df[df['method_name']=='XGBClassifier']['algorithm_implementation'].sort_values(by='auc')"
   ]
  },
  {
   "cell_type": "code",
   "execution_count": null,
   "id": "1430664e",
   "metadata": {},
   "outputs": [],
   "source": [
    "df.columns"
   ]
  },
  {
   "cell_type": "code",
   "execution_count": null,
   "id": "845b572c",
   "metadata": {},
   "outputs": [],
   "source": [
    "try:\n",
    "    print(df[(df['method_name']=='XGBClassifier') & (df['date_time_stamp']==False)]['algorithm_implementation'].iloc[0])\n",
    "    \n",
    "except:\n",
    "    pass"
   ]
  },
  {
   "cell_type": "code",
   "execution_count": null,
   "id": "89a5bb01",
   "metadata": {},
   "outputs": [],
   "source": []
  },
  {
   "cell_type": "code",
   "execution_count": null,
   "id": "2008e04e",
   "metadata": {},
   "outputs": [],
   "source": [
    "sv = df[(df['method_name']=='XGBClassifier') & (df['date_time_stamp']==False)]['f_list'].iloc[0]\n",
    "\n",
    "svcn = get_column_names(sv)"
   ]
  },
  {
   "cell_type": "code",
   "execution_count": null,
   "id": "65098632",
   "metadata": {},
   "outputs": [],
   "source": [
    "len(svcn)"
   ]
  },
  {
   "cell_type": "code",
   "execution_count": null,
   "id": "3d8755b2",
   "metadata": {
    "scrolled": true
   },
   "outputs": [],
   "source": [
    "X = df1[svcn]\n",
    "\n",
    "y = df1['outcome_var_1']"
   ]
  },
  {
   "cell_type": "code",
   "execution_count": null,
   "id": "9503d3a1",
   "metadata": {},
   "outputs": [],
   "source": [
    "from sklearn.model_selection import train_test_split"
   ]
  },
  {
   "cell_type": "code",
   "execution_count": null,
   "id": "432f2b9d",
   "metadata": {},
   "outputs": [],
   "source": [
    "from sklearn.preprocessing import StandardScaler\n",
    "scaler = StandardScaler()\n",
    "X = scaler.fit_transform(X)\n",
    "\n",
    "X = pd.DataFrame(data=X, columns=svcn)"
   ]
  },
  {
   "cell_type": "code",
   "execution_count": null,
   "id": "39d778c0",
   "metadata": {},
   "outputs": [],
   "source": [
    "X.columns = [regex.sub(\"_\", col) if any(x in str(col) for x in set(('[', ']', '<'))) else col for col in X.columns.values]\n"
   ]
  },
  {
   "cell_type": "code",
   "execution_count": null,
   "id": "222793f2",
   "metadata": {},
   "outputs": [],
   "source": [
    "x_train, x_test, y_train, y_test = train_test_split(X, y, test_size = 0.25)"
   ]
  },
  {
   "cell_type": "code",
   "execution_count": null,
   "id": "946e17a9",
   "metadata": {},
   "outputs": [],
   "source": []
  },
  {
   "cell_type": "code",
   "execution_count": null,
   "id": "da5a62c7",
   "metadata": {},
   "outputs": [],
   "source": [
    "model = XGBClassifier(base_score=None, booster=None, colsample_bylevel=None,\n",
    "              colsample_bynode=None, colsample_bytree=None, gamma=None,\n",
    "              gpu_id=None, importance_type='gain', interaction_constraints=None,\n",
    "              learning_rate=None, max_delta_step=None, max_depth=None,\n",
    "              min_child_weight=None, missing=np.nan, monotone_constraints=None,\n",
    "              n_estimators=100, n_jobs=None, num_parallel_tree=None,\n",
    "              random_state=None, reg_alpha=None, reg_lambda=None,\n",
    "              scale_pos_weight=None, subsample=None, tree_method=None,\n",
    "              validate_parameters=None, verbosity=None)\n",
    "\n",
    "model.fit(x_train, y_train)   \n",
    "y_pred = model.predict(x_test)\n",
    "\n",
    "\n",
    "#auc(y_test, y_pred)\n",
    "roc_auc_score(y_test, y_pred)"
   ]
  },
  {
   "cell_type": "code",
   "execution_count": null,
   "id": "142b1fbc",
   "metadata": {},
   "outputs": [],
   "source": [
    "#from sklearn.metrics import auc_roc_score\n",
    "roc_auc_score(y_test, y_pred)"
   ]
  },
  {
   "cell_type": "code",
   "execution_count": null,
   "id": "61164468",
   "metadata": {},
   "outputs": [],
   "source": [
    "try:\n",
    "    figure(figsize=(10, 10), dpi=900)\n",
    "    plt.rcParams.update({'figure.figsize':[10, 10], 'figure.dpi':900})\n",
    "    plot_tree(model)\n",
    "\n",
    "    plt.savefig(\"grid_tree_data.png\")\n",
    "    plt.show()\n",
    "except Exception as e:\n",
    "    print(e)"
   ]
  },
  {
   "cell_type": "code",
   "execution_count": null,
   "id": "9c15eb84",
   "metadata": {},
   "outputs": [],
   "source": [
    "X_sampled = x_train#.sample(100, random_state=10)\n",
    "\n",
    "explainer = shap.TreeExplainer(model)\n",
    "        \n",
    "shap_values = explainer.shap_values(X_sampled)\n",
    "\n",
    "shap.summary_plot(shap_values, X_sampled, show=False)"
   ]
  },
  {
   "cell_type": "code",
   "execution_count": null,
   "id": "7dd2b4cd",
   "metadata": {},
   "outputs": [],
   "source": [
    "x_test"
   ]
  },
  {
   "cell_type": "code",
   "execution_count": null,
   "id": "ca88006a",
   "metadata": {},
   "outputs": [],
   "source": [
    "random_individual = x_test.sample(1)"
   ]
  },
  {
   "cell_type": "code",
   "execution_count": null,
   "id": "eb095290",
   "metadata": {},
   "outputs": [],
   "source": [
    "random_individual.values"
   ]
  },
  {
   "cell_type": "code",
   "execution_count": null,
   "id": "67799591",
   "metadata": {},
   "outputs": [],
   "source": [
    "shap_values = explainer.shap_values(X_sampled)"
   ]
  },
  {
   "cell_type": "code",
   "execution_count": null,
   "id": "09bcc2c0",
   "metadata": {},
   "outputs": [],
   "source": [
    "len(x_test)"
   ]
  },
  {
   "cell_type": "code",
   "execution_count": null,
   "id": "4d94ed1a",
   "metadata": {},
   "outputs": [],
   "source": [
    "%%time\n",
    "X_sampled = x_train#.sample(100, random_state=10)\n",
    "\n",
    "explainer = shap.TreeExplainer(model)\n",
    "        \n",
    "shap_values = explainer.shap_values(X_sampled)\n",
    "\n",
    "shap.summary_plot(shap_values, X_sampled, show=False)"
   ]
  },
  {
   "cell_type": "code",
   "execution_count": null,
   "id": "71e5c25c",
   "metadata": {},
   "outputs": [],
   "source": []
  },
  {
   "cell_type": "code",
   "execution_count": null,
   "id": "2e21109c",
   "metadata": {},
   "outputs": [],
   "source": []
  },
  {
   "cell_type": "code",
   "execution_count": null,
   "id": "97be5856",
   "metadata": {},
   "outputs": [],
   "source": []
  },
  {
   "cell_type": "code",
   "execution_count": null,
   "id": "c55cc557",
   "metadata": {},
   "outputs": [],
   "source": []
  },
  {
   "cell_type": "code",
   "execution_count": null,
   "id": "ba9480ac",
   "metadata": {},
   "outputs": [],
   "source": []
  },
  {
   "cell_type": "code",
   "execution_count": null,
   "id": "325abb66",
   "metadata": {},
   "outputs": [],
   "source": []
  },
  {
   "cell_type": "code",
   "execution_count": null,
   "id": "fa778935",
   "metadata": {},
   "outputs": [],
   "source": [
    "%%time\n",
    "min_permutation = X_sampled.columns.shape[0] * 2  +1\n",
    "print(f\"min permuatations {min_permutation}\")\n",
    "\n",
    "#explainer = shap.Explainer(model.predict, x_test)\n",
    "\n",
    "x_test_sample = x_test\n",
    "\n",
    "explainer = shap.explainers.Permutation(model.predict , x_test_sample, max_evals = min_permutation) # 1854721\n",
    "# Calculates the SHAP values - It takes some time\n",
    "shap_values = explainer(x_test_sample)\n"
   ]
  },
  {
   "cell_type": "code",
   "execution_count": null,
   "id": "0551bee6",
   "metadata": {},
   "outputs": [],
   "source": []
  },
  {
   "cell_type": "code",
   "execution_count": null,
   "id": "816adb80",
   "metadata": {},
   "outputs": [],
   "source": [
    "shap.plots.waterfall(shap_values[0])"
   ]
  },
  {
   "cell_type": "code",
   "execution_count": null,
   "id": "bfd391fe",
   "metadata": {},
   "outputs": [],
   "source": []
  },
  {
   "cell_type": "code",
   "execution_count": null,
   "id": "eb6ee02f",
   "metadata": {},
   "outputs": [],
   "source": [
    "shap.plots.bar(shap_values)"
   ]
  },
  {
   "cell_type": "code",
   "execution_count": null,
   "id": "b696e5c9",
   "metadata": {},
   "outputs": [],
   "source": [
    "shap.summary_plot(shap_values, plot_type='violin')"
   ]
  },
  {
   "cell_type": "code",
   "execution_count": null,
   "id": "a6d75f46",
   "metadata": {},
   "outputs": [],
   "source": [
    "shap.plots.bar(shap_values[0])"
   ]
  },
  {
   "cell_type": "code",
   "execution_count": null,
   "id": "077e70e2",
   "metadata": {},
   "outputs": [],
   "source": [
    "shap.plots.waterfall(shap_values[0])"
   ]
  },
  {
   "cell_type": "code",
   "execution_count": null,
   "id": "b33d835e",
   "metadata": {},
   "outputs": [],
   "source": [
    "shap.initjs()"
   ]
  },
  {
   "cell_type": "code",
   "execution_count": null,
   "id": "62136455",
   "metadata": {},
   "outputs": [],
   "source": [
    "shap.plots.force(shap_values[0])"
   ]
  },
  {
   "cell_type": "code",
   "execution_count": null,
   "id": "486b8524",
   "metadata": {},
   "outputs": [],
   "source": [
    "shap.plots.beeswarm(shap_values,max_display=20)"
   ]
  },
  {
   "cell_type": "code",
   "execution_count": null,
   "id": "de1d39ca",
   "metadata": {},
   "outputs": [],
   "source": [
    "shap.plots.beeswarm(shap_values, x_test_sample)"
   ]
  },
  {
   "cell_type": "code",
   "execution_count": null,
   "id": "70af5448",
   "metadata": {},
   "outputs": [],
   "source": []
  },
  {
   "cell_type": "code",
   "execution_count": null,
   "id": "78eb4df9",
   "metadata": {},
   "outputs": [],
   "source": []
  },
  {
   "cell_type": "code",
   "execution_count": null,
   "id": "93c3c5d6",
   "metadata": {},
   "outputs": [],
   "source": []
  },
  {
   "cell_type": "code",
   "execution_count": null,
   "id": "41d65362",
   "metadata": {},
   "outputs": [],
   "source": []
  },
  {
   "cell_type": "code",
   "execution_count": null,
   "id": "8596182c",
   "metadata": {},
   "outputs": [],
   "source": [
    "import os\n",
    "os.listdir()"
   ]
  },
  {
   "cell_type": "code",
   "execution_count": null,
   "id": "db50ce24",
   "metadata": {},
   "outputs": [],
   "source": [
    "# import shutil\n",
    "# try:\n",
    "#     shutil.rmtree('HFE_ML_sequence_experiments')\n",
    "# except:\n",
    "#     pass\n",
    "\n",
    "# try:\n",
    "#     shutil.rmtree('HFE_ML_TS_experiments/')\n",
    "# except:\n",
    "#     pass"
   ]
  },
  {
   "cell_type": "code",
   "execution_count": null,
   "id": "2bd630a2",
   "metadata": {},
   "outputs": [],
   "source": []
  }
 ],
 "metadata": {
  "kernelspec": {
   "display_name": "Python 3 (ipykernel)",
   "language": "python",
   "name": "python3"
  },
  "language_info": {
   "codemirror_mode": {
    "name": "ipython",
    "version": 3
   },
   "file_extension": ".py",
   "mimetype": "text/x-python",
   "name": "python",
   "nbconvert_exporter": "python",
   "pygments_lexer": "ipython3",
   "version": "3.9.7"
  },
  "varInspector": {
   "cols": {
    "lenName": 16,
    "lenType": 16,
    "lenVar": 40
   },
   "kernels_config": {
    "python": {
     "delete_cmd_postfix": "",
     "delete_cmd_prefix": "del ",
     "library": "var_list.py",
     "varRefreshCmd": "print(var_dic_list())"
    },
    "r": {
     "delete_cmd_postfix": ") ",
     "delete_cmd_prefix": "rm(",
     "library": "var_list.r",
     "varRefreshCmd": "cat(var_dic_list()) "
    }
   },
   "types_to_exclude": [
    "module",
    "function",
    "builtin_function_or_method",
    "instance",
    "_Feature"
   ],
   "window_display": false
  }
 },
 "nbformat": 4,
 "nbformat_minor": 5
}
